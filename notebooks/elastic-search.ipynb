{
 "cells": [
  {
   "cell_type": "markdown",
   "metadata": {},
   "source": [
    "# Elastic Search"
   ]
  },
  {
   "cell_type": "markdown",
   "metadata": {},
   "source": [
    "## Install Dependency"
   ]
  },
  {
   "cell_type": "code",
   "execution_count": 2,
   "metadata": {},
   "outputs": [
    {
     "name": "stdout",
     "output_type": "stream",
     "text": [
      "Collecting elasticsearch\n",
      "  Downloading elasticsearch-8.16.0-py3-none-any.whl (543 kB)\n",
      "     -------------------------------------- 543.1/543.1 KB 8.6 MB/s eta 0:00:00\n",
      "Collecting elastic-transport<9,>=8.15.1\n",
      "  Downloading elastic_transport-8.15.1-py3-none-any.whl (64 kB)\n",
      "     ---------------------------------------- 64.4/64.4 KB ? eta 0:00:00\n",
      "Collecting certifi\n",
      "  Using cached certifi-2024.8.30-py3-none-any.whl (167 kB)\n",
      "Collecting urllib3<3,>=1.26.2\n",
      "  Using cached urllib3-2.2.3-py3-none-any.whl (126 kB)\n",
      "Installing collected packages: urllib3, certifi, elastic-transport, elasticsearch\n",
      "Successfully installed certifi-2024.8.30 elastic-transport-8.15.1 elasticsearch-8.16.0 urllib3-2.2.3\n",
      "Note: you may need to restart the kernel to use updated packages.\n"
     ]
    },
    {
     "name": "stderr",
     "output_type": "stream",
     "text": [
      "WARNING: You are using pip version 22.0.4; however, version 24.3.1 is available.\n",
      "You should consider upgrading via the 'c:\\Users\\LENOVO\\Documents\\wiwie\\projects\\ai-sqlite-and-elastic-search-exercise\\.venv\\Scripts\\python.exe -m pip install --upgrade pip' command.\n"
     ]
    }
   ],
   "source": [
    "%pip install elasticsearch"
   ]
  },
  {
   "cell_type": "markdown",
   "metadata": {},
   "source": [
    "## Import Library"
   ]
  },
  {
   "cell_type": "code",
   "execution_count": 4,
   "metadata": {},
   "outputs": [],
   "source": [
    "from elasticsearch import Elasticsearch\n",
    "import time\n",
    "import json\n",
    "import pandas as pd"
   ]
  },
  {
   "cell_type": "markdown",
   "metadata": {},
   "source": [
    "## Read Dataset"
   ]
  },
  {
   "cell_type": "code",
   "execution_count": 5,
   "metadata": {},
   "outputs": [
    {
     "data": {
      "text/html": [
       "<div>\n",
       "<style scoped>\n",
       "    .dataframe tbody tr th:only-of-type {\n",
       "        vertical-align: middle;\n",
       "    }\n",
       "\n",
       "    .dataframe tbody tr th {\n",
       "        vertical-align: top;\n",
       "    }\n",
       "\n",
       "    .dataframe thead th {\n",
       "        text-align: right;\n",
       "    }\n",
       "</style>\n",
       "<table border=\"1\" class=\"dataframe\">\n",
       "  <thead>\n",
       "    <tr style=\"text-align: right;\">\n",
       "      <th></th>\n",
       "      <th>InvoiceNo</th>\n",
       "      <th>StockCode</th>\n",
       "      <th>Description</th>\n",
       "      <th>Quantity</th>\n",
       "      <th>InvoiceDate</th>\n",
       "      <th>UnitPrice</th>\n",
       "      <th>CustomerID</th>\n",
       "      <th>Country</th>\n",
       "    </tr>\n",
       "  </thead>\n",
       "  <tbody>\n",
       "    <tr>\n",
       "      <th>0</th>\n",
       "      <td>536365</td>\n",
       "      <td>85123A</td>\n",
       "      <td>WHITE HANGING HEART T-LIGHT HOLDER</td>\n",
       "      <td>6</td>\n",
       "      <td>12/1/2010 8:26</td>\n",
       "      <td>2.55</td>\n",
       "      <td>17850.0</td>\n",
       "      <td>United Kingdom</td>\n",
       "    </tr>\n",
       "    <tr>\n",
       "      <th>1</th>\n",
       "      <td>536365</td>\n",
       "      <td>71053</td>\n",
       "      <td>WHITE METAL LANTERN</td>\n",
       "      <td>6</td>\n",
       "      <td>12/1/2010 8:26</td>\n",
       "      <td>3.39</td>\n",
       "      <td>17850.0</td>\n",
       "      <td>United Kingdom</td>\n",
       "    </tr>\n",
       "  </tbody>\n",
       "</table>\n",
       "</div>"
      ],
      "text/plain": [
       "  InvoiceNo StockCode                         Description  Quantity  \\\n",
       "0    536365    85123A  WHITE HANGING HEART T-LIGHT HOLDER         6   \n",
       "1    536365     71053                 WHITE METAL LANTERN         6   \n",
       "\n",
       "      InvoiceDate  UnitPrice  CustomerID         Country  \n",
       "0  12/1/2010 8:26       2.55     17850.0  United Kingdom  \n",
       "1  12/1/2010 8:26       3.39     17850.0  United Kingdom  "
      ]
     },
     "execution_count": 5,
     "metadata": {},
     "output_type": "execute_result"
    }
   ],
   "source": [
    "dataset_csv = pd.read_csv(\"../datasets/data.csv\", encoding='ISO-8859-1')\n",
    "\n",
    "dataset_csv.head(2)"
   ]
  },
  {
   "cell_type": "markdown",
   "metadata": {},
   "source": [
    "## Preprocessing Dataset"
   ]
  },
  {
   "cell_type": "code",
   "execution_count": 6,
   "metadata": {},
   "outputs": [],
   "source": [
    "dataset_csv = dataset_csv.dropna()"
   ]
  },
  {
   "cell_type": "code",
   "execution_count": 7,
   "metadata": {},
   "outputs": [
    {
     "data": {
      "text/html": [
       "<div>\n",
       "<style scoped>\n",
       "    .dataframe tbody tr th:only-of-type {\n",
       "        vertical-align: middle;\n",
       "    }\n",
       "\n",
       "    .dataframe tbody tr th {\n",
       "        vertical-align: top;\n",
       "    }\n",
       "\n",
       "    .dataframe thead th {\n",
       "        text-align: right;\n",
       "    }\n",
       "</style>\n",
       "<table border=\"1\" class=\"dataframe\">\n",
       "  <thead>\n",
       "    <tr style=\"text-align: right;\">\n",
       "      <th></th>\n",
       "      <th>InvoiceNo</th>\n",
       "      <th>StockCode</th>\n",
       "      <th>Description</th>\n",
       "      <th>Quantity</th>\n",
       "      <th>InvoiceDate</th>\n",
       "      <th>UnitPrice</th>\n",
       "      <th>CustomerID</th>\n",
       "      <th>Country</th>\n",
       "    </tr>\n",
       "  </thead>\n",
       "  <tbody>\n",
       "    <tr>\n",
       "      <th>0</th>\n",
       "      <td>536365</td>\n",
       "      <td>85123A</td>\n",
       "      <td>WHITE HANGING HEART T-LIGHT HOLDER</td>\n",
       "      <td>6</td>\n",
       "      <td>12/1/2010 8:26</td>\n",
       "      <td>2.55</td>\n",
       "      <td>17850.0</td>\n",
       "      <td>United Kingdom</td>\n",
       "    </tr>\n",
       "    <tr>\n",
       "      <th>1</th>\n",
       "      <td>536365</td>\n",
       "      <td>71053</td>\n",
       "      <td>WHITE METAL LANTERN</td>\n",
       "      <td>6</td>\n",
       "      <td>12/1/2010 8:26</td>\n",
       "      <td>3.39</td>\n",
       "      <td>17850.0</td>\n",
       "      <td>United Kingdom</td>\n",
       "    </tr>\n",
       "    <tr>\n",
       "      <th>2</th>\n",
       "      <td>536365</td>\n",
       "      <td>84406B</td>\n",
       "      <td>CREAM CUPID HEARTS COAT HANGER</td>\n",
       "      <td>8</td>\n",
       "      <td>12/1/2010 8:26</td>\n",
       "      <td>2.75</td>\n",
       "      <td>17850.0</td>\n",
       "      <td>United Kingdom</td>\n",
       "    </tr>\n",
       "    <tr>\n",
       "      <th>3</th>\n",
       "      <td>536365</td>\n",
       "      <td>84029G</td>\n",
       "      <td>KNITTED UNION FLAG HOT WATER BOTTLE</td>\n",
       "      <td>6</td>\n",
       "      <td>12/1/2010 8:26</td>\n",
       "      <td>3.39</td>\n",
       "      <td>17850.0</td>\n",
       "      <td>United Kingdom</td>\n",
       "    </tr>\n",
       "    <tr>\n",
       "      <th>4</th>\n",
       "      <td>536365</td>\n",
       "      <td>84029E</td>\n",
       "      <td>RED WOOLLY HOTTIE WHITE HEART.</td>\n",
       "      <td>6</td>\n",
       "      <td>12/1/2010 8:26</td>\n",
       "      <td>3.39</td>\n",
       "      <td>17850.0</td>\n",
       "      <td>United Kingdom</td>\n",
       "    </tr>\n",
       "  </tbody>\n",
       "</table>\n",
       "</div>"
      ],
      "text/plain": [
       "  InvoiceNo StockCode                          Description  Quantity  \\\n",
       "0    536365    85123A   WHITE HANGING HEART T-LIGHT HOLDER         6   \n",
       "1    536365     71053                  WHITE METAL LANTERN         6   \n",
       "2    536365    84406B       CREAM CUPID HEARTS COAT HANGER         8   \n",
       "3    536365    84029G  KNITTED UNION FLAG HOT WATER BOTTLE         6   \n",
       "4    536365    84029E       RED WOOLLY HOTTIE WHITE HEART.         6   \n",
       "\n",
       "      InvoiceDate  UnitPrice  CustomerID         Country  \n",
       "0  12/1/2010 8:26       2.55     17850.0  United Kingdom  \n",
       "1  12/1/2010 8:26       3.39     17850.0  United Kingdom  \n",
       "2  12/1/2010 8:26       2.75     17850.0  United Kingdom  \n",
       "3  12/1/2010 8:26       3.39     17850.0  United Kingdom  \n",
       "4  12/1/2010 8:26       3.39     17850.0  United Kingdom  "
      ]
     },
     "execution_count": 7,
     "metadata": {},
     "output_type": "execute_result"
    }
   ],
   "source": [
    "dataset_csv.head()"
   ]
  },
  {
   "cell_type": "markdown",
   "metadata": {},
   "source": [
    "## Connect to Elastic Search"
   ]
  },
  {
   "cell_type": "code",
   "execution_count": 8,
   "metadata": {},
   "outputs": [],
   "source": [
    "es = Elasticsearch([{'host': 'localhost', 'port': 9200, 'scheme': 'http'}])"
   ]
  },
  {
   "cell_type": "markdown",
   "metadata": {},
   "source": [
    "## Create Index and Insert Data"
   ]
  },
  {
   "cell_type": "code",
   "execution_count": 11,
   "metadata": {},
   "outputs": [
    {
     "name": "stdout",
     "output_type": "stream",
     "text": [
      "{\n",
      "    \"acknowledged\": true,\n",
      "    \"shards_acknowledged\": true,\n",
      "    \"index\": \"e_commerce_sales_order\"\n",
      "}\n"
     ]
    }
   ],
   "source": [
    "response = es.options(ignore_status=[400]).indices.create(index='e_commerce_sales_order')\n",
    "print(json.dumps(response.body, indent=4))"
   ]
  },
  {
   "cell_type": "code",
   "execution_count": 10,
   "metadata": {},
   "outputs": [
    {
     "name": "stdout",
     "output_type": "stream",
     "text": [
      "{\n",
      "    \"acknowledged\": true\n",
      "}\n"
     ]
    }
   ],
   "source": [
    "response = es.options(ignore_status=[400, 404]).indices.delete(index='e_commerce_sales_order')\n",
    "print(json.dumps(response.body, indent=4))"
   ]
  },
  {
   "cell_type": "code",
   "execution_count": 13,
   "metadata": {},
   "outputs": [
    {
     "data": {
      "text/plain": [
       "(406829, [])"
      ]
     },
     "execution_count": 13,
     "metadata": {},
     "output_type": "execute_result"
    }
   ],
   "source": [
    "import sys\n",
    "import os\n",
    "sys.path.append(os.path.abspath('..'))\n",
    "from utils.elastic_search_utils import df_to_elasticsearch\n",
    "from elasticsearch.helpers import bulk\n",
    "\n",
    "bulk(es, df_to_elasticsearch(dataset_csv, 'e_commerce_sales_order'))"
   ]
  },
  {
   "cell_type": "code",
   "execution_count": 14,
   "metadata": {},
   "outputs": [
    {
     "name": "stdout",
     "output_type": "stream",
     "text": [
      "{\n",
      "    \"took\": 1247,\n",
      "    \"timed_out\": false,\n",
      "    \"_shards\": {\n",
      "        \"total\": 1,\n",
      "        \"successful\": 1,\n",
      "        \"skipped\": 0,\n",
      "        \"failed\": 0\n",
      "    },\n",
      "    \"hits\": {\n",
      "        \"total\": {\n",
      "            \"value\": 10000,\n",
      "            \"relation\": \"gte\"\n",
      "        },\n",
      "        \"max_score\": 1.0,\n",
      "        \"hits\": [\n",
      "            {\n",
      "                \"_index\": \"e_commerce_sales_order\",\n",
      "                \"_id\": \"756d7638-f0bb-48eb-8fc0-272cff8392b0\",\n",
      "                \"_score\": 1.0,\n",
      "                \"_source\": {\n",
      "                    \"InvoiceNo\": \"536365\",\n",
      "                    \"StockCode\": \"85123A\",\n",
      "                    \"Description\": \"WHITE HANGING HEART T-LIGHT HOLDER\",\n",
      "                    \"Quantity\": 6,\n",
      "                    \"InvoiceDate\": \"12/1/2010 8:26\",\n",
      "                    \"UnitPrice\": 2.55,\n",
      "                    \"CustomerID\": 17850.0,\n",
      "                    \"Country\": \"United Kingdom\"\n",
      "                }\n",
      "            }\n",
      "        ]\n",
      "    }\n",
      "}\n"
     ]
    }
   ],
   "source": [
    "response = es.search(index='e_commerce_sales_order', body={\n",
    "    'size': 1,\n",
    "    'from': 0\n",
    "})\n",
    "print(json.dumps(response.body, indent=4))"
   ]
  },
  {
   "cell_type": "code",
   "execution_count": 16,
   "metadata": {},
   "outputs": [
    {
     "name": "stdout",
     "output_type": "stream",
     "text": [
      "Columns: ['Country', 'CustomerID', 'Description', 'InvoiceDate', 'InvoiceNo', 'Quantity', 'StockCode', 'UnitPrice']\n",
      "Number of rows: 406829\n"
     ]
    }
   ],
   "source": [
    "from elasticsearch import Elasticsearch\n",
    "\n",
    "# Connect to the Elasticsearch server\n",
    "es = Elasticsearch([{'host': 'localhost', 'port': 9200, 'scheme': 'http'}])\n",
    "\n",
    "index_name = 'e_commerce_sales_order' #change the my_index_name value\n",
    "\n",
    "# Get index mapping (equivalent to getting column names in SQL)\n",
    "mapping = es.indices.get_mapping(index=index_name)\n",
    "es_columns = list(mapping[index_name]['mappings']['properties'].keys()) #the variable es_columns is used for submission, do not change the variable name\n",
    "print(f\"Columns: {es_columns}\")\n",
    "\n",
    "# Count documents in the index (equivalent to counting rows in SQL)\n",
    "es_num_rows = es.count(index=index_name)['count'] #the variable es_num_rows is used for submission, do not change the variable name\n",
    "print(f\"Number of rows: {es_num_rows}\")\n"
   ]
  },
  {
   "cell_type": "markdown",
   "metadata": {},
   "source": [
    "## TASK-01: All Transactions for a Specific Country (Germany)"
   ]
  },
  {
   "cell_type": "code",
   "execution_count": 17,
   "metadata": {},
   "outputs": [
    {
     "name": "stdout",
     "output_type": "stream",
     "text": [
      "Number of documents matching the query: 9495\n"
     ]
    }
   ],
   "source": [
    "index_name = 'e_commerce_sales_order'\n",
    "\n",
    "query = {\n",
    "    \"query\": {\n",
    "        \"match\": {\n",
    "            \"Country\": \"Germany\"  \n",
    "        }\n",
    "    }\n",
    "}\n",
    "\n",
    "response = es.count(index=index_name, body=query)\n",
    "\n",
    "es_transactions_in_germany = response['count']\n",
    "print(f\"Number of documents matching the query: {es_transactions_in_germany}\")"
   ]
  },
  {
   "cell_type": "markdown",
   "metadata": {},
   "source": [
    "## TASK-02: Unique Products in Germany"
   ]
  },
  {
   "cell_type": "code",
   "execution_count": 18,
   "metadata": {},
   "outputs": [
    {
     "name": "stdout",
     "output_type": "stream",
     "text": [
      "Unique products in Germany: 1703\n"
     ]
    }
   ],
   "source": [
    "index_name = 'e_commerce_sales_order'\n",
    "\n",
    "country = \"Germany\"  \n",
    "query = {\n",
    "    \"size\": 0,  \n",
    "    \"query\": {\n",
    "        \"match\": {\n",
    "            \"Country\": country\n",
    "        }\n",
    "    },\n",
    "    \"aggs\": {\n",
    "        \"unique_products\": {\n",
    "            \"cardinality\": {\n",
    "                \"field\": \"Description.keyword\"  # Field representing the product (use `.keyword` for exact match)\n",
    "            }\n",
    "        }\n",
    "    }\n",
    "}\n",
    "\n",
    "response = es.search(index=index_name, body=query)\n",
    "\n",
    "es_total_unique_products = response['aggregations']['unique_products']['value']\n",
    "print(f\"Unique products in {country}: {es_total_unique_products}\")"
   ]
  },
  {
   "cell_type": "markdown",
   "metadata": {},
   "source": [
    "## TASK-03: Top 5 Most Purchased Products in Germany"
   ]
  },
  {
   "cell_type": "code",
   "execution_count": 19,
   "metadata": {},
   "outputs": [
    {
     "name": "stdout",
     "output_type": "stream",
     "text": [
      "Stock ID: POSTAGE, Total Quantity: 383\n",
      "Stock ID: ROUND SNACK BOXES SET OF4 WOODLAND , Total Quantity: 120\n",
      "Stock ID: REGENCY CAKESTAND 3 TIER, Total Quantity: 81\n",
      "Stock ID: ROUND SNACK BOXES SET OF 4 FRUITS , Total Quantity: 78\n",
      "Stock ID: PLASTERS IN TIN WOODLAND ANIMALS, Total Quantity: 67\n"
     ]
    },
    {
     "data": {
      "text/plain": [
       "{'POSTAGE': 383,\n",
       " 'ROUND SNACK BOXES SET OF4 WOODLAND ': 120,\n",
       " 'REGENCY CAKESTAND 3 TIER': 81,\n",
       " 'ROUND SNACK BOXES SET OF 4 FRUITS ': 78,\n",
       " 'PLASTERS IN TIN WOODLAND ANIMALS': 67}"
      ]
     },
     "execution_count": 19,
     "metadata": {},
     "output_type": "execute_result"
    }
   ],
   "source": [
    "index_name = 'e_commerce_sales_order'\n",
    "\n",
    "# Define the query to group by stock ID and sum product quantities where country = Germany\n",
    "query = {\n",
    "    \"size\": 0,  # No need to return actual documents\n",
    "    \"query\": {\n",
    "        \"match\": {\n",
    "            \"Country\": \"Germany\"  # Filter for Germany (use .keyword for exact match)\n",
    "        }\n",
    "    },\n",
    "    \"aggs\": {\n",
    "        \"group_by_description\": {\n",
    "            \"terms\": {\n",
    "                \"field\": \"Description.keyword\",  # Group by Stock ID (or StockCode)\n",
    "                \"size\": 5,\n",
    "                \"order\": {  # Sort by total quantity in ascending order\n",
    "                    \"total_quantity.value\": \"desc\"\n",
    "                },\n",
    "            },\n",
    "            \"aggs\": {\n",
    "                \"total_quantity\": {\n",
    "                    \"value_count\": {\n",
    "                        \"field\": \"Description.keyword\"  # Sum the quantity for each stock ID\n",
    "                    }\n",
    "                }\n",
    "            }\n",
    "        }\n",
    "    }\n",
    "}\n",
    "\n",
    "# Execute the query\n",
    "response = es.search(index=index_name, body=query)\n",
    "\n",
    "es_top_products = {}\n",
    "# Extract and print the results\n",
    "buckets = response['aggregations']['group_by_description']['buckets']\n",
    "for bucket in buckets:\n",
    "    stock_code = bucket['key']\n",
    "    total_quantity = bucket['total_quantity']['value']\n",
    "    es_top_products[stock_code] = int(total_quantity)\n",
    "    print(f\"Stock ID: {stock_code}, Total Quantity: {total_quantity}\")\n",
    "    \n",
    "es_top_products"
   ]
  },
  {
   "cell_type": "markdown",
   "metadata": {},
   "source": [
    "## Submission"
   ]
  },
  {
   "cell_type": "code",
   "execution_count": null,
   "metadata": {},
   "outputs": [
    {
     "data": {
      "text/plain": [
       "'Assignment successfully submitted'"
      ]
     },
     "execution_count": 55,
     "metadata": {},
     "output_type": "execute_result"
    }
   ],
   "source": [
    "student_id = \"REAINTCZ\" \n",
    "name = \"Wiwie Sanjaya\"\n",
    "drive_link = \"https://github.com/wiwiewei18/sqlite-and-elastic-search-exercise\"  \n",
    "\n",
    "assignment_id = \"00_database_project\"\n",
    "\n",
    "from rggrader import submit, submit_image\n",
    "\n",
    "# question_id = \"09_es_columns\"\n",
    "# submit(student_id, name, assignment_id, str(es_columns), question_id, drive_link)\n",
    "# question_id = \"10_es_num_rows\"\n",
    "# submit(student_id, name, assignment_id, str(es_num_rows), question_id, drive_link)\n",
    "# question_id = \"11_es_total_unique_products\"\n",
    "# submit(student_id, name, assignment_id, str(es_total_unique_products), question_id, drive_link)\n",
    "# question_id = \"12_es_transactions_in_germany\"\n",
    "# submit(student_id, name, assignment_id, str(es_transactions_in_germany), question_id, drive_link)\n",
    "# question_id = \"13_es_top_products\"\n",
    "# submit(student_id, name, assignment_id, str(es_top_products), question_id, drive_link)"
   ]
  }
 ],
 "metadata": {
  "kernelspec": {
   "display_name": ".venv",
   "language": "python",
   "name": "python3"
  },
  "language_info": {
   "codemirror_mode": {
    "name": "ipython",
    "version": 3
   },
   "file_extension": ".py",
   "mimetype": "text/x-python",
   "name": "python",
   "nbconvert_exporter": "python",
   "pygments_lexer": "ipython3",
   "version": "3.10.5"
  }
 },
 "nbformat": 4,
 "nbformat_minor": 2
}
