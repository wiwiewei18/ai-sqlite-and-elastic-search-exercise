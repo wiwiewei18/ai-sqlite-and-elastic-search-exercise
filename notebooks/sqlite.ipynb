{
 "cells": [
  {
   "cell_type": "markdown",
   "metadata": {},
   "source": [
    "# SQLite"
   ]
  },
  {
   "cell_type": "markdown",
   "metadata": {},
   "source": [
    "## Install Dependency"
   ]
  },
  {
   "cell_type": "code",
   "execution_count": 13,
   "metadata": {},
   "outputs": [
    {
     "name": "stdout",
     "output_type": "stream",
     "text": [
      "Note: you may need to restart the kernel to use updated packages.\n"
     ]
    },
    {
     "name": "stderr",
     "output_type": "stream",
     "text": [
      "ERROR: Could not find a version that satisfies the requirement sqlite3 (from versions: none)\n",
      "ERROR: No matching distribution found for sqlite3\n",
      "WARNING: You are using pip version 22.0.4; however, version 24.3.1 is available.\n",
      "You should consider upgrading via the 'c:\\Users\\LENOVO\\Documents\\wiwie\\projects\\ai-sqlite-and-elastic-search-exercise\\.venv\\Scripts\\python.exe -m pip install --upgrade pip' command.\n"
     ]
    },
    {
     "name": "stdout",
     "output_type": "stream",
     "text": [
      "Requirement already satisfied: pandas in c:\\users\\lenovo\\documents\\wiwie\\projects\\ai-sqlite-and-elastic-search-exercise\\.venv\\lib\\site-packages (2.2.3)\n",
      "Requirement already satisfied: numpy>=1.22.4 in c:\\users\\lenovo\\documents\\wiwie\\projects\\ai-sqlite-and-elastic-search-exercise\\.venv\\lib\\site-packages (from pandas) (2.1.3)\n",
      "Requirement already satisfied: tzdata>=2022.7 in c:\\users\\lenovo\\documents\\wiwie\\projects\\ai-sqlite-and-elastic-search-exercise\\.venv\\lib\\site-packages (from pandas) (2024.2)\n",
      "Requirement already satisfied: pytz>=2020.1 in c:\\users\\lenovo\\documents\\wiwie\\projects\\ai-sqlite-and-elastic-search-exercise\\.venv\\lib\\site-packages (from pandas) (2024.2)\n",
      "Requirement already satisfied: python-dateutil>=2.8.2 in c:\\users\\lenovo\\documents\\wiwie\\projects\\ai-sqlite-and-elastic-search-exercise\\.venv\\lib\\site-packages (from pandas) (2.9.0.post0)\n",
      "Requirement already satisfied: six>=1.5 in c:\\users\\lenovo\\documents\\wiwie\\projects\\ai-sqlite-and-elastic-search-exercise\\.venv\\lib\\site-packages (from python-dateutil>=2.8.2->pandas) (1.17.0)\n",
      "Note: you may need to restart the kernel to use updated packages.\n"
     ]
    },
    {
     "name": "stderr",
     "output_type": "stream",
     "text": [
      "WARNING: You are using pip version 22.0.4; however, version 24.3.1 is available.\n",
      "You should consider upgrading via the 'c:\\Users\\LENOVO\\Documents\\wiwie\\projects\\ai-sqlite-and-elastic-search-exercise\\.venv\\Scripts\\python.exe -m pip install --upgrade pip' command.\n"
     ]
    },
    {
     "name": "stdout",
     "output_type": "stream",
     "text": [
      "Collecting rggrader\n",
      "  Downloading rggrader-0.1.6-py3-none-any.whl (2.5 kB)\n",
      "Requirement already satisfied: pandas in c:\\users\\lenovo\\documents\\wiwie\\projects\\ai-sqlite-and-elastic-search-exercise\\.venv\\lib\\site-packages (from rggrader) (2.2.3)\n",
      "Collecting Pillow\n",
      "  Downloading pillow-11.0.0-cp310-cp310-win_amd64.whl (2.6 MB)\n",
      "     ---------------------------------------- 2.6/2.6 MB 8.6 MB/s eta 0:00:00\n",
      "Collecting requests\n",
      "  Using cached requests-2.32.3-py3-none-any.whl (64 kB)\n",
      "Requirement already satisfied: pytz>=2020.1 in c:\\users\\lenovo\\documents\\wiwie\\projects\\ai-sqlite-and-elastic-search-exercise\\.venv\\lib\\site-packages (from pandas->rggrader) (2024.2)\n",
      "Requirement already satisfied: tzdata>=2022.7 in c:\\users\\lenovo\\documents\\wiwie\\projects\\ai-sqlite-and-elastic-search-exercise\\.venv\\lib\\site-packages (from pandas->rggrader) (2024.2)\n",
      "Requirement already satisfied: python-dateutil>=2.8.2 in c:\\users\\lenovo\\documents\\wiwie\\projects\\ai-sqlite-and-elastic-search-exercise\\.venv\\lib\\site-packages (from pandas->rggrader) (2.9.0.post0)\n",
      "Requirement already satisfied: numpy>=1.22.4 in c:\\users\\lenovo\\documents\\wiwie\\projects\\ai-sqlite-and-elastic-search-exercise\\.venv\\lib\\site-packages (from pandas->rggrader) (2.1.3)\n",
      "Requirement already satisfied: urllib3<3,>=1.21.1 in c:\\users\\lenovo\\documents\\wiwie\\projects\\ai-sqlite-and-elastic-search-exercise\\.venv\\lib\\site-packages (from requests->rggrader) (2.2.3)\n",
      "Collecting charset-normalizer<4,>=2\n",
      "  Using cached charset_normalizer-3.4.0-cp310-cp310-win_amd64.whl (102 kB)\n",
      "Requirement already satisfied: certifi>=2017.4.17 in c:\\users\\lenovo\\documents\\wiwie\\projects\\ai-sqlite-and-elastic-search-exercise\\.venv\\lib\\site-packages (from requests->rggrader) (2024.8.30)\n",
      "Collecting idna<4,>=2.5\n",
      "  Using cached idna-3.10-py3-none-any.whl (70 kB)\n",
      "Requirement already satisfied: six>=1.5 in c:\\users\\lenovo\\documents\\wiwie\\projects\\ai-sqlite-and-elastic-search-exercise\\.venv\\lib\\site-packages (from python-dateutil>=2.8.2->pandas->rggrader) (1.17.0)\n",
      "Installing collected packages: Pillow, idna, charset-normalizer, requests, rggrader\n",
      "Successfully installed Pillow-11.0.0 charset-normalizer-3.4.0 idna-3.10 requests-2.32.3 rggrader-0.1.6\n",
      "Note: you may need to restart the kernel to use updated packages.\n"
     ]
    },
    {
     "name": "stderr",
     "output_type": "stream",
     "text": [
      "WARNING: You are using pip version 22.0.4; however, version 24.3.1 is available.\n",
      "You should consider upgrading via the 'c:\\Users\\LENOVO\\Documents\\wiwie\\projects\\ai-sqlite-and-elastic-search-exercise\\.venv\\Scripts\\python.exe -m pip install --upgrade pip' command.\n"
     ]
    }
   ],
   "source": [
    "%pip install sqlite3\n",
    "\n",
    "%pip install pandas\n",
    "\n",
    "%pip install rggrader"
   ]
  },
  {
   "cell_type": "markdown",
   "metadata": {},
   "source": [
    "## Import Library"
   ]
  },
  {
   "cell_type": "code",
   "execution_count": 2,
   "metadata": {},
   "outputs": [],
   "source": [
    "import sqlite3\n",
    "\n",
    "import pandas as pd"
   ]
  },
  {
   "cell_type": "markdown",
   "metadata": {},
   "source": [
    "## Read Dataset"
   ]
  },
  {
   "cell_type": "code",
   "execution_count": 3,
   "metadata": {},
   "outputs": [
    {
     "data": {
      "text/html": [
       "<div>\n",
       "<style scoped>\n",
       "    .dataframe tbody tr th:only-of-type {\n",
       "        vertical-align: middle;\n",
       "    }\n",
       "\n",
       "    .dataframe tbody tr th {\n",
       "        vertical-align: top;\n",
       "    }\n",
       "\n",
       "    .dataframe thead th {\n",
       "        text-align: right;\n",
       "    }\n",
       "</style>\n",
       "<table border=\"1\" class=\"dataframe\">\n",
       "  <thead>\n",
       "    <tr style=\"text-align: right;\">\n",
       "      <th></th>\n",
       "      <th>InvoiceNo</th>\n",
       "      <th>StockCode</th>\n",
       "      <th>Description</th>\n",
       "      <th>Quantity</th>\n",
       "      <th>InvoiceDate</th>\n",
       "      <th>UnitPrice</th>\n",
       "      <th>CustomerID</th>\n",
       "      <th>Country</th>\n",
       "    </tr>\n",
       "  </thead>\n",
       "  <tbody>\n",
       "    <tr>\n",
       "      <th>0</th>\n",
       "      <td>536365</td>\n",
       "      <td>85123A</td>\n",
       "      <td>WHITE HANGING HEART T-LIGHT HOLDER</td>\n",
       "      <td>6</td>\n",
       "      <td>12/1/2010 8:26</td>\n",
       "      <td>2.55</td>\n",
       "      <td>17850.0</td>\n",
       "      <td>United Kingdom</td>\n",
       "    </tr>\n",
       "    <tr>\n",
       "      <th>1</th>\n",
       "      <td>536365</td>\n",
       "      <td>71053</td>\n",
       "      <td>WHITE METAL LANTERN</td>\n",
       "      <td>6</td>\n",
       "      <td>12/1/2010 8:26</td>\n",
       "      <td>3.39</td>\n",
       "      <td>17850.0</td>\n",
       "      <td>United Kingdom</td>\n",
       "    </tr>\n",
       "  </tbody>\n",
       "</table>\n",
       "</div>"
      ],
      "text/plain": [
       "  InvoiceNo StockCode                         Description  Quantity  \\\n",
       "0    536365    85123A  WHITE HANGING HEART T-LIGHT HOLDER         6   \n",
       "1    536365     71053                 WHITE METAL LANTERN         6   \n",
       "\n",
       "      InvoiceDate  UnitPrice  CustomerID         Country  \n",
       "0  12/1/2010 8:26       2.55     17850.0  United Kingdom  \n",
       "1  12/1/2010 8:26       3.39     17850.0  United Kingdom  "
      ]
     },
     "execution_count": 3,
     "metadata": {},
     "output_type": "execute_result"
    }
   ],
   "source": [
    "dataset_csv = pd.read_csv(\"../datasets/data.csv\", encoding='ISO-8859-1')\n",
    "\n",
    "dataset_csv.head(2)"
   ]
  },
  {
   "cell_type": "markdown",
   "metadata": {},
   "source": [
    "## Connect to SQLite"
   ]
  },
  {
   "cell_type": "code",
   "execution_count": 4,
   "metadata": {},
   "outputs": [],
   "source": [
    "connection = sqlite3.connect('../database/e-commerce.db')\n",
    "cursor = connection.cursor()"
   ]
  },
  {
   "cell_type": "markdown",
   "metadata": {},
   "source": [
    "## Create SQLite Table"
   ]
  },
  {
   "cell_type": "code",
   "execution_count": 5,
   "metadata": {},
   "outputs": [],
   "source": [
    "cursor.execute('''\n",
    "    CREATE TABLE sales_order (\n",
    "        InvoiceNo VARCHAR(255) NOT NULL,\n",
    "        StockCode VARCHAR(255) NOT NULL,\n",
    "        Description VARCHAR(255),\n",
    "        Quantity INTEGER NOT NULL,\n",
    "        InvoiceDate DATETIME NOT NULL,\n",
    "        UnitPrice FLOAT NOT NULL,\n",
    "        CustomerID FLOAT,\n",
    "        Country VARCHAR(255) NOT NULL\n",
    "    )\n",
    "''')\n",
    "\n",
    "connection.commit()"
   ]
  },
  {
   "cell_type": "markdown",
   "metadata": {},
   "source": [
    "## Insert Data into SQLite Table"
   ]
  },
  {
   "cell_type": "code",
   "execution_count": 6,
   "metadata": {},
   "outputs": [],
   "source": [
    "data = dataset_csv[['InvoiceNo', 'StockCode', 'Description', 'Quantity', 'InvoiceDate', 'UnitPrice', 'CustomerID', 'Country']].values.tolist()\n",
    "\n",
    "cursor.executemany('''\n",
    "    INSERT INTO sales_order (InvoiceNo, StockCode, Description, Quantity, InvoiceDate, UnitPrice, CustomerID, Country)\n",
    "    VALUES (?, ?, ?, ?, ?, ?, ?, ?)\n",
    "''', data)\n",
    "\n",
    "connection.commit()"
   ]
  },
  {
   "cell_type": "markdown",
   "metadata": {},
   "source": [
    "## Check sales_order SQLite Table"
   ]
  },
  {
   "cell_type": "code",
   "execution_count": 7,
   "metadata": {},
   "outputs": [
    {
     "name": "stdout",
     "output_type": "stream",
     "text": [
      "Columns: ['InvoiceNo', 'StockCode', 'Description', 'Quantity', 'InvoiceDate', 'UnitPrice', 'CustomerID', 'Country']\n",
      "Number of rows: 541909\n"
     ]
    }
   ],
   "source": [
    "import sqlite3\n",
    "\n",
    "conn = sqlite3.connect('../database/e-commerce.db') \n",
    "cur = conn.cursor()\n",
    "\n",
    "cur.execute(\"PRAGMA table_info(sales_order)\") \n",
    "sql_columns = [column[1] for column in cur.fetchall()] \n",
    "print(f\"Columns: {sql_columns}\")\n",
    "\n",
    "cur.execute(\"SELECT COUNT(*) FROM sales_order\") \n",
    "sql_num_rows = cur.fetchone()[0] \n",
    "print(f\"Number of rows: {sql_num_rows}\")\n",
    "\n",
    "conn.close()"
   ]
  },
  {
   "cell_type": "markdown",
   "metadata": {},
   "source": [
    "## TASK-01: Total number of unique products and unique customers"
   ]
  },
  {
   "cell_type": "code",
   "execution_count": 8,
   "metadata": {},
   "outputs": [
    {
     "data": {
      "text/plain": [
       "np.int64(4070)"
      ]
     },
     "metadata": {},
     "output_type": "display_data"
    },
    {
     "data": {
      "text/plain": [
       "np.int64(4372)"
      ]
     },
     "metadata": {},
     "output_type": "display_data"
    }
   ],
   "source": [
    "sql_num_products = pd.read_sql_query('''\n",
    "    SELECT COUNT(DISTINCT StockCode) AS 'Unique Products' FROM sales_order\n",
    "''', connection)\n",
    "\n",
    "sql_num_products = sql_num_products['Unique Products'][0]\n",
    "\n",
    "display(sql_num_products)\n",
    "\n",
    "sql_num_customers = pd.read_sql_query('''\n",
    "    SELECT COUNT(DISTINCT CustomerID) AS 'Unique Customers' FROM sales_order\n",
    "''', connection)\n",
    "\n",
    "sql_num_customers = sql_num_customers['Unique Customers'][0]\n",
    "\n",
    "display(sql_num_customers)"
   ]
  },
  {
   "cell_type": "markdown",
   "metadata": {},
   "source": [
    "## TASK-02: Total revenue for each product, limited to top 5"
   ]
  },
  {
   "cell_type": "code",
   "execution_count": 9,
   "metadata": {},
   "outputs": [
    {
     "data": {
      "text/plain": [
       "[('DOTCOM POSTAGE', 206245.48000000019),\n",
       " ('REGENCY CAKESTAND 3 TIER', 164762.19),\n",
       " ('WHITE HANGING HEART T-LIGHT HOLDER', 99668.46999999849),\n",
       " ('PARTY BUNTING', 98302.98000000048),\n",
       " ('JUMBO BAG RED RETROSPOT', 92356.03000000204)]"
      ]
     },
     "metadata": {},
     "output_type": "display_data"
    }
   ],
   "source": [
    "sql_top_product_revenues = pd.read_sql_query('''\n",
    "    SELECT \n",
    "        Description,\n",
    "        SUM(Quantity * UnitPrice) AS Revenue\n",
    "    FROM sales_order \n",
    "    GROUP BY Description \n",
    "    ORDER BY Revenue DESC\n",
    "    LIMIT 5\n",
    "''', connection)\n",
    "\n",
    "sql_top_product_revenues = list(sql_top_product_revenues.itertuples(index=False, name=None))\n",
    "\n",
    "display(sql_top_product_revenues)  "
   ]
  },
  {
   "cell_type": "markdown",
   "metadata": {},
   "source": [
    "## TASK-03: The most profitable countries (by total sales), limited to top 5"
   ]
  },
  {
   "cell_type": "code",
   "execution_count": 10,
   "metadata": {},
   "outputs": [
    {
     "data": {
      "text/plain": [
       "[('United Kingdom', 8187806.364001113),\n",
       " ('Netherlands', 284661.54000000015),\n",
       " ('EIRE', 263276.81999999826),\n",
       " ('Germany', 221698.20999999862),\n",
       " ('France', 197403.90000000002)]"
      ]
     },
     "metadata": {},
     "output_type": "display_data"
    },
    {
     "data": {
      "text/plain": [
       "('United Kingdom', 'Netherlands', 'EIRE', 'Germany', 'France')"
      ]
     },
     "metadata": {},
     "output_type": "display_data"
    }
   ],
   "source": [
    "sql_top_countries = pd.read_sql_query('''\n",
    "    SELECT \n",
    "        Country,\n",
    "        SUM(Quantity * UnitPrice) AS Revenue\n",
    "    FROM sales_order \n",
    "    GROUP BY Country \n",
    "    ORDER BY Revenue DESC\n",
    "    LIMIT 5\n",
    "''', connection)\n",
    "\n",
    "sql_top_countries = list(sql_top_countries.itertuples(index=False, name=None))\n",
    "sql_top_country_names = tuple(map(lambda top_country: top_country[0], sql_top_countries))\n",
    "\n",
    "display(sql_top_countries)  \n",
    "display(sql_top_country_names)"
   ]
  },
  {
   "cell_type": "markdown",
   "metadata": {},
   "source": [
    "## TASK-04: Top-selling products (by total sales) for each country, limited to top 5"
   ]
  },
  {
   "cell_type": "code",
   "execution_count": 11,
   "metadata": {},
   "outputs": [
    {
     "data": {
      "text/plain": [
       "{'United Kingdom': [('DOTCOM POSTAGE', 206245.48000000019),\n",
       "  ('REGENCY CAKESTAND 3 TIER', 134405.93999999992),\n",
       "  ('WHITE HANGING HEART T-LIGHT HOLDER', 93953.0699999987),\n",
       "  ('PARTY BUNTING', 92501.73000000033),\n",
       "  ('JUMBO BAG RED RETROSPOT', 84516.44000000166)],\n",
       " 'Netherlands': [('RABBIT NIGHT LIGHT', 9568.48),\n",
       "  ('ROUND SNACK BOXES SET OF4 WOODLAND ', 7991.400000000001),\n",
       "  ('SPACEBOY LUNCH BOX ', 7485.5999999999985),\n",
       "  ('DOLLY GIRL LUNCH BOX', 6828.599999999999),\n",
       "  ('ROUND SNACK BOXES SET OF 4 FRUITS ', 4039.2000000000007)],\n",
       " 'EIRE': [('REGENCY CAKESTAND 3 TIER', 7442.849999999997),\n",
       "  ('CARRIAGE', 5175.0),\n",
       "  ('JAM MAKING SET WITH JARS', 3089.0),\n",
       "  ('3 TIER CAKE TIN RED AND CREAM', 3041.5499999999997),\n",
       "  ('WHITE HANGING HEART T-LIGHT HOLDER', 2857.8)],\n",
       " 'Germany': [('POSTAGE', 20821.0),\n",
       "  ('REGENCY CAKESTAND 3 TIER', 8257.349999999997),\n",
       "  ('ROUND SNACK BOXES SET OF4 WOODLAND ', 3554.6999999999985),\n",
       "  ('ROUND SNACK BOXES SET OF 4 FRUITS ', 1949.9500000000016),\n",
       "  ('SPACEBOY LUNCH BOX ', 1629.45)],\n",
       " 'France': [('POSTAGE', 15065.0),\n",
       "  ('RABBIT NIGHT LIGHT', 7275.119999999999),\n",
       "  ('REGENCY CAKESTAND 3 TIER', 2581.7999999999997),\n",
       "  ('RED TOADSTOOL LED NIGHT LIGHT', 2168.099999999999),\n",
       "  ('PLASTERS IN TIN WOODLAND ANIMALS', 1868.3999999999978)]}"
      ]
     },
     "metadata": {},
     "output_type": "display_data"
    }
   ],
   "source": [
    "pd.options.display.float_format = '{:.10f}'.format\n",
    "\n",
    "sql_top_selling_product = pd.read_sql_query(f'''\n",
    "    SELECT \n",
    "        Country,\n",
    "        Description,\n",
    "        Revenue\n",
    "    FROM (\n",
    "        SELECT \n",
    "            Country,\n",
    "            Description,\n",
    "            SUM(Quantity * UnitPrice) AS Revenue,\n",
    "            ROW_NUMBER() OVER (PARTITION BY Country ORDER BY SUM(Quantity * UnitPrice) DESC) AS row_num\n",
    "        FROM sales_order\n",
    "        WHERE country IN {sql_top_country_names}\n",
    "        GROUP BY Country, Description\n",
    "    ) AS ranked_sales\n",
    "    WHERE row_num <= 5\n",
    "    ORDER BY \n",
    "        CASE Country\n",
    "            WHEN 'United Kingdom' THEN 1\n",
    "            WHEN 'Netherlands' THEN 2\n",
    "            WHEN 'EIRE' THEN 3\n",
    "            WHEN 'Germany' THEN 4\n",
    "            WHEN 'France' THEN 5\n",
    "            ELSE 6\n",
    "        END,\n",
    "        Revenue DESC;\n",
    "''', connection)\n",
    "\n",
    "sql_top_selling_products_by_country_by_sales = {}\n",
    "\n",
    "for row in sql_top_selling_product.itertuples(index=False):\n",
    "    country = row.Country\n",
    "    description = row.Description\n",
    "    revenue = row.Revenue\n",
    "    \n",
    "    if country not in sql_top_selling_products_by_country_by_sales:\n",
    "        sql_top_selling_products_by_country_by_sales[country] = []\n",
    "    \n",
    "    sql_top_selling_products_by_country_by_sales[country].append((description, revenue))\n",
    "\n",
    "display(sql_top_selling_products_by_country_by_sales)"
   ]
  },
  {
   "cell_type": "markdown",
   "metadata": {},
   "source": [
    "## TASK-05: Top-selling products (by quantity) for each country, limited to top 5"
   ]
  },
  {
   "cell_type": "code",
   "execution_count": 12,
   "metadata": {},
   "outputs": [
    {
     "data": {
      "text/plain": [
       "{'United Kingdom': [('United Kingdom WORLD WAR 2 GLIDERS ASSTD DESIGNS',\n",
       "   48326),\n",
       "  ('United Kingdom JUMBO BAG RED RETROSPOT', 43167),\n",
       "  ('United Kingdom POPCORN HOLDER', 34365),\n",
       "  ('United Kingdom ASSORTED COLOUR BIRD ORNAMENT', 33679),\n",
       "  ('United Kingdom WHITE HANGING HEART T-LIGHT HOLDER', 33193)],\n",
       " 'Netherlands': [('Netherlands RABBIT NIGHT LIGHT', 4801),\n",
       "  ('Netherlands SPACEBOY LUNCH BOX ', 4528),\n",
       "  ('Netherlands DOLLY GIRL LUNCH BOX', 4132),\n",
       "  ('Netherlands PACK OF 72 RETROSPOT CAKE CASES', 4128),\n",
       "  ('Netherlands ROUND SNACK BOXES SET OF4 WOODLAND ', 3132)],\n",
       " 'EIRE': [('EIRE PACK OF 72 RETROSPOT CAKE CASES', 1728),\n",
       "  ('EIRE 60 TEATIME FAIRY CAKE CASES', 1536),\n",
       "  ('EIRE VINTAGE SNAP CARDS', 1492),\n",
       "  ('EIRE ASSORTED INCENSE PACK', 1440),\n",
       "  ('EIRE PACK OF 60 PINK PAISLEY CAKE CASES', 1296)],\n",
       " 'Germany': [('Germany ROUND SNACK BOXES SET OF4 WOODLAND ', 1218),\n",
       "  ('Germany ASSORTED COLOURS SILK FAN', 1164),\n",
       "  ('Germany POSTAGE', 1104),\n",
       "  ('Germany WOODLAND CHARLOTTE BAG', 1019),\n",
       "  ('Germany PACK OF 72 RETROSPOT CAKE CASES', 1002)],\n",
       " 'France': [('France RABBIT NIGHT LIGHT', 4023),\n",
       "  ('France MINI PAINT SET VINTAGE ', 2196),\n",
       "  ('France RED TOADSTOOL LED NIGHT LIGHT', 1314),\n",
       "  ('France SET/6 RED SPOTTY PAPER CUPS', 1272),\n",
       "  ('France ASSORTED COLOUR BIRD ORNAMENT', 1204)]}"
      ]
     },
     "metadata": {},
     "output_type": "display_data"
    }
   ],
   "source": [
    "sql_top_selling_product = pd.read_sql_query(f'''\n",
    "    SELECT \n",
    "        Country,\n",
    "        Description,\n",
    "        Quantity\n",
    "    FROM (\n",
    "        SELECT \n",
    "            Country,\n",
    "            Description,\n",
    "            SUM(Quantity) AS Quantity,\n",
    "            ROW_NUMBER() OVER (PARTITION BY Country ORDER BY SUM(Quantity) DESC) AS row_num\n",
    "        FROM sales_order\n",
    "        WHERE country IN {sql_top_country_names}\n",
    "        GROUP BY Country, Description\n",
    "    ) AS ranked_sales\n",
    "    WHERE row_num <= 5\n",
    "    ORDER BY \n",
    "        CASE Country\n",
    "            WHEN 'United Kingdom' THEN 1\n",
    "            WHEN 'Netherlands' THEN 2\n",
    "            WHEN 'EIRE' THEN 3\n",
    "            WHEN 'Germany' THEN 4\n",
    "            WHEN 'France' THEN 5\n",
    "            ELSE 6\n",
    "        END,\n",
    "        Quantity DESC;\n",
    "''', connection)\n",
    "\n",
    "sql_top_selling_products_by_country_by_quantity = {}\n",
    "\n",
    "for row in sql_top_selling_product.itertuples(index=False):\n",
    "    country = row.Country\n",
    "    description = row.Description\n",
    "    quantity = row.Quantity\n",
    "    \n",
    "    if country not in sql_top_selling_products_by_country_by_quantity:\n",
    "        sql_top_selling_products_by_country_by_quantity[country] = []\n",
    "    \n",
    "    sql_top_selling_products_by_country_by_quantity[country].append((country + ' ' + description, quantity))\n",
    "\n",
    "display(sql_top_selling_products_by_country_by_quantity)"
   ]
  },
  {
   "cell_type": "markdown",
   "metadata": {},
   "source": [
    "## Submission"
   ]
  },
  {
   "cell_type": "code",
   "execution_count": null,
   "metadata": {},
   "outputs": [],
   "source": [
    "student_id = \"REAINTCZ\" \n",
    "name = \"Wiwie Sanjaya\"\n",
    "drive_link = \"https://github.com/wiwiewei18/ai-sqlite-and-elastic-search-exercise\"  \n",
    "\n",
    "assignment_id = \"00_database_project\"\n",
    "\n",
    "from rggrader import submit, submit_image\n",
    "\n",
    "# question_id = \"01_sql_columns\"\n",
    "# submit(student_id, name, assignment_id, str(sql_columns), question_id, drive_link)\n",
    "# question_id = \"02_sql_num_rows\"\n",
    "# submit(student_id, name, assignment_id, str(sql_num_rows), question_id, drive_link)\n",
    "# question_id = \"03_sql_num_products\"\n",
    "# submit(student_id, name, assignment_id, str(sql_num_products), question_id, drive_link)\n",
    "# question_id = \"04_sql_num_customers\"\n",
    "# submit(student_id, name, assignment_id, str(sql_num_customers), question_id, drive_link)\n",
    "# question_id = \"05_sql_top_product_revenues\"\n",
    "# submit(student_id, name, assignment_id, str(sql_top_product_revenues), question_id, drive_link)\n",
    "# question_id = \"06_sql_top_countries\"\n",
    "# submit(student_id, name, assignment_id, str(sql_top_countries), question_id, drive_link)\n",
    "# question_id = \"07_sql_top_selling_products_by_country_by_sales\"\n",
    "# submit(student_id, name, assignment_id, str(sql_top_selling_products_by_country_by_sales), question_id, drive_link)\n",
    "# question_id = \"08_sql_top_selling_products_by_country_by_quantity\"\n",
    "# submit(student_id, name, assignment_id, str(sql_top_selling_products_by_country_by_quantity), question_id, drive_link)"
   ]
  }
 ],
 "metadata": {
  "kernelspec": {
   "display_name": ".venv",
   "language": "python",
   "name": "python3"
  },
  "language_info": {
   "codemirror_mode": {
    "name": "ipython",
    "version": 3
   },
   "file_extension": ".py",
   "mimetype": "text/x-python",
   "name": "python",
   "nbconvert_exporter": "python",
   "pygments_lexer": "ipython3",
   "version": "3.10.5"
  }
 },
 "nbformat": 4,
 "nbformat_minor": 2
}
